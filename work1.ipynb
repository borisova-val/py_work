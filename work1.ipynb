{
  "nbformat": 4,
  "nbformat_minor": 0,
  "metadata": {
    "colab": {
      "name": "work1.ipynb",
      "provenance": [],
      "collapsed_sections": []
    },
    "kernelspec": {
      "name": "python3",
      "display_name": "Python 3"
    }
  },
  "cells": [
    {
      "cell_type": "code",
      "metadata": {
        "id": "w5TZXWYqqvln",
        "colab_type": "code",
        "colab": {}
      },
      "source": [
        "#task5\n",
        "import math\n",
        "a = 29 \n",
        "b = -67 \n",
        "total = 2\n",
        "sr_ar = (a + b) / total \n",
        "print(sr_ar)\n",
        "sr_g = (math.fabs(a) * math.fabs(b))**(1 / total)\n",
        "print(sr_g)\n"
      ],
      "execution_count": 0,
      "outputs": []
    },
    {
      "cell_type": "code",
      "metadata": {
        "id": "VHvJbbOorUvr",
        "colab_type": "code",
        "colab": {}
      },
      "source": [
        "#task57a\n",
        "a = 29\n",
        "if a == 2 and a >= -2:\n",
        "    print(a**2)\n",
        "else:\n",
        "    print(4)  "
      ],
      "execution_count": 0,
      "outputs": []
    },
    {
      "cell_type": "code",
      "metadata": {
        "id": "wTMJjjI1rYGY",
        "colab_type": "code",
        "colab": {}
      },
      "source": [
        "#task57b\n",
        "a = 29\n",
        "if a >= 2:\n",
        "    print(a**2 + 4*a + 5)\n",
        "else:\n",
        "    print(1 / (a**2 + 4*a + 5)) "
      ],
      "execution_count": 0,
      "outputs": []
    },
    {
      "cell_type": "code",
      "metadata": {
        "id": "FCS9NUyyraOl",
        "colab_type": "code",
        "colab": {}
      },
      "source": [
        "#task120\n",
        "from tkinter import *\n",
        "root = Tk()\n",
        "root.title(\"Треугольник\")\n",
        "c = Canvas(root, width = 300, height = 300, bg = 'red')\n",
        "c.pack()\n",
        "c.create_polygon([100, 100], [150, 100], [80, 70], fill = 'blue')\n",
        "root2 = Tk()\n",
        "root2.title(\"Квадрат\")\n",
        "c2 = Canvas(root2, width = 300, height = 300, bg = 'red')\n",
        "c2.pack()\n",
        "c2.create_rectangle(80, 150, 170, 80, fill = 'blue')\n",
        "root3 = Tk()\n",
        "root3.title(\"Пятиугольник\")\n",
        "c3 = Canvas(root3, width = 300, height = 300, bg = 'red')\n",
        "c3.pack()\n",
        "c3.create_polygon([100, 100], [150, 100], [170, 120], [150, 140], [100, 140], fill = 'blue')\n",
        "root4 = Tk()\n",
        "root4.title(\"Пятиугольник\")\n",
        "c4 = Canvas(root4, width = 300, height = 300, bg = 'red')\n",
        "c4.pack()\n",
        "c4.create_polygon([120, 100], [140, 120], [140, 140], [120, 160], [100, 140], [100, 120], fill = 'blue')\n",
        "root.mainloop()"
      ],
      "execution_count": 0,
      "outputs": []
    },
    {
      "cell_type": "code",
      "metadata": {
        "id": "OrrMZhuKrgo1",
        "colab_type": "code",
        "colab": {}
      },
      "source": [
        "#task64\n",
        "a = 43903\n",
        "if a > 99:\n",
        "    sot = a // 100\n",
        "    print('В числе a сотен:', sot)\n",
        "else:  print('По условию задачи число должно быть > 99 ')"
      ],
      "execution_count": 0,
      "outputs": []
    },
    {
      "cell_type": "code",
      "metadata": {
        "id": "DqoIFmedrj25",
        "colab_type": "code",
        "colab": {}
      },
      "source": [
        "#task77в\n",
        "n = 5\n",
        "count = 1\n",
        "answer = 0\n",
        "factorial = 0\n",
        "while count <= n:\n",
        "    factorial = (1 + 1 / (count**2))\n",
        "    answer += factorial\n",
        "    count += 1\n",
        "print('Ответ:', answer)"
      ],
      "execution_count": 0,
      "outputs": []
    },
    {
      "cell_type": "code",
      "metadata": {
        "id": "QBdxz3gurnzR",
        "colab_type": "code",
        "colab": {}
      },
      "source": [
        "#task124\n",
        "import matplotlib as mpl\n",
        "import matplotlib.pyplot as plt\n",
        "import matplotlib.dates as mdates\n",
        "import datetime as dt\n",
        "import csv\n",
        "data_names = ['a1', 'a2', 'a3', 'a4', 'a5','a6']\n",
        "data_values = [100, 220, 340, 630, 950, 100,]\n",
        "dpi = 80\n",
        "fig = plt.figure(dpi = dpi, figsize = (512 / dpi, 384 / dpi) )\n",
        "mpl.rcParams.update({'font.size': 10})\n",
        "plt.title('Гистограмма')\n",
        "ax = plt.axes()\n",
        "ax.yaxis.grid(True, zorder = 1)\n",
        "xs = range(len(data_names))\n",
        "plt.bar([x + 0.05 for x in xs], [ d * 0.9 for d in data_values],\n",
        "        width = 0.5, color = {'green':   [(0.0,  0.0, 0.0),\n",
        "                   (0.5,  1.0, 1.0),\n",
        "                   (1.0,  1.0, 1.0)],\n",
        "         'red': [(0.0,  0.0, 0.0),\n",
        "                   (0.25, 0.0, 0.0),\n",
        "                   (0.75, 1.0, 1.0),\n",
        "                   (1.0,  1.0, 1.0)],\n",
        "         'blue':  [(0.0,  0.0, 0.0),\n",
        "                   (0.5,  0.0, 0.0),\n",
        "                   (1.0,  1.0, 1.0)]\n",
        "                    } \n",
        "        , alpha = 0.7, label = '2020',\n",
        "        zorder = 2)\n",
        "plt.xticks(xs, data_names)\n",
        "fig.autofmt_xdate(rotation = 25)\n",
        "plt.legend(loc='upper right')\n",
        "fig.savefig('bars.png')"
      ],
      "execution_count": 0,
      "outputs": []
    },
    {
      "cell_type": "code",
      "metadata": {
        "id": "rp65clqWrpzB",
        "colab_type": "code",
        "colab": {}
      },
      "source": [
        "#task178е\n",
        "n = 7\n",
        "arr = [23, 45, 67, 12, 56, 44, 46]\n",
        "arr1 = [ ]\n",
        "arr2 = [ ]\n",
        "i = 1\n",
        "for i in range(0, len(arr), 2):\n",
        "    arr1.append(arr[i])\n",
        "for i in arr1:\n",
        "    if i % 2 != 0:\n",
        "        arr2.append(i)\n",
        "for i in arr2:\n",
        "    print(i, end = ', ')"
      ],
      "execution_count": 0,
      "outputs": []
    },
    {
      "cell_type": "code",
      "metadata": {
        "id": "xA5w_Z3brtE4",
        "colab_type": "code",
        "colab": {}
      },
      "source": [
        "#task139г\n",
        "n = 3\n",
        "count = 1\n",
        "answer = []\n",
        "factorial = 0\n",
        "while count <= n:\n",
        "    factorial = (2**(count + 1) )\n",
        "    answer.append(factorial)\n",
        "    count += 1\n",
        "for i in answer:\n",
        "    print(i, end = ', ')\n",
        "   "
      ],
      "execution_count": 0,
      "outputs": []
    },
    {
      "cell_type": "code",
      "metadata": {
        "id": "ZwYJXyC7rycC",
        "colab_type": "code",
        "colab": {}
      },
      "source": [
        "#task135\n",
        "from tkinter import *\n",
        "import time\n",
        "root = Tk()\n",
        "time1 = ''\n",
        "clock = Label(root, font=('times', 20, 'bold'), bg='white')\n",
        "clock.pack(fill=BOTH, expand=1)\n",
        "def tick():\n",
        "    global time1\n",
        "    time2 = time.strftime('%H:%M:%S')\n",
        "    if time2 != time1:\n",
        "        time1 = time2\n",
        "        clock.config(text=time2)\n",
        "    clock.after(200, tick)\n",
        "tick()\n",
        "root.mainloop()"
      ],
      "execution_count": 0,
      "outputs": []
    },
    {
      "cell_type": "code",
      "metadata": {
        "id": "y-lIxN0Qr03R",
        "colab_type": "code",
        "colab": {}
      },
      "source": [
        "#task208б\n",
        "import math \n",
        "n = 29\n",
        "i = int\n",
        "max = 1\n",
        "count = 0\n",
        "for i in range (1,n+1):\n",
        "  if (i > max) and (i % 2 == 1):\n",
        "    max = i\n",
        "  if (i % 2 == 0):\n",
        "    count +=  1\n",
        "print( \"Максимальное нечетное число =\", max)\n",
        "print(\"Кол-во четных чисел =\",count)"
      ],
      "execution_count": 0,
      "outputs": []
    },
    {
      "cell_type": "code",
      "metadata": {
        "id": "YIqgJKFEr2Wv",
        "colab_type": "code",
        "colab": {}
      },
      "source": [
        "#task257г\n",
        "str = input('Введите слова')\n",
        "i = 0\n",
        "while str[i] != '!':\n",
        "  if (str[i] == 'н') and (str[i+1] == 'о'):\n",
        "    print(\"Имеются соседствующие буквы но\")\n",
        "  if (str[i] == 'о') and (str[i+1] == 'н'):\n",
        "    print(\"Имеются соседствующие буквы он\")\n",
        "  i += 1\n"
      ],
      "execution_count": 0,
      "outputs": []
    },
    {
      "cell_type": "code",
      "metadata": {
        "id": "54WAEPtQr5xI",
        "colab_type": "code",
        "colab": {}
      },
      "source": [
        "#task173\n",
        "from tkinter import *\n",
        "import random\n",
        "window = Tk()\n",
        "window.title(\"Прямоугольник\")\n",
        "can = Canvas(window, width = 400, height = 400, bg = 'red')\n",
        "can.pack()\n",
        "n = int(input(\"Введие натуральное число n:\"))\n",
        "gg = [random.randint(0,300) for i in range(n)]\n",
        "i = 0\n",
        "while i < len(gg):\n",
        "    if (i % 4 == 0) and (i + 4 < len(gg)):\n",
        "      x1 = gg[i] - gg[i+2] / 2\n",
        "      x2 = gg[i+1] - gg[i+3] / 2\n",
        "      y1 = gg[i] + gg[i+2] / 2\n",
        "      y2 = gg[i+1] + gg[i+3] / 2\n",
        "      can.create_rectangle(x1, y1, x2, y2, fill = 'blue')\n",
        "    i += 1\n",
        "window.mainloop()"
      ],
      "execution_count": 0,
      "outputs": []
    },
    {
      "cell_type": "code",
      "metadata": {
        "id": "dZZg0XFJvftl",
        "colab_type": "code",
        "colab": {}
      },
      "source": [
        ""
      ],
      "execution_count": 0,
      "outputs": []
    }
  ]
}